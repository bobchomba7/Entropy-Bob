{
 "cells": [
  {
   "cell_type": "markdown",
   "id": "040141f8-b83b-48b1-995c-fe24f2830c05",
   "metadata": {},
   "source": [
    "$entropy = \\sum_i p_i log_2 p_i $ "
   ]
  },
  {
   "cell_type": "code",
   "execution_count": 1,
   "id": "3a4a79e0-4149-4b84-a6c6-ddfdad9149f7",
   "metadata": {},
   "outputs": [],
   "source": [
    "import numpy as np"
   ]
  },
  {
   "cell_type": "code",
   "execution_count": 3,
   "id": "cdb64859-8b39-41d7-915a-b332bf0069cb",
   "metadata": {},
   "outputs": [
    {
     "data": {
      "text/plain": [
       "-0.0"
      ]
     },
     "execution_count": 3,
     "metadata": {},
     "output_type": "execute_result"
    }
   ],
   "source": [
    "(-10/10 * np.log2(10/10))"
   ]
  },
  {
   "cell_type": "code",
   "execution_count": 4,
   "id": "dab9981b-68fe-4677-aab3-2320de8d13e2",
   "metadata": {},
   "outputs": [
    {
     "data": {
      "text/plain": [
       "1.0"
      ]
     },
     "execution_count": 4,
     "metadata": {},
     "output_type": "execute_result"
    }
   ],
   "source": [
    "(-5/10 * np.log2(5/10)) + (-5/10 * np.log2(5/10))"
   ]
  },
  {
   "cell_type": "markdown",
   "id": "a99861f7-71df-4f5c-8155-88595ece6895",
   "metadata": {},
   "source": [
    "Entropy at the left child "
   ]
  },
  {
   "cell_type": "code",
   "execution_count": 5,
   "id": "1a696188-a3c3-4e7c-8697-3213f49e14a0",
   "metadata": {},
   "outputs": [
    {
     "data": {
      "text/plain": [
       "0.9182958340544896"
      ]
     },
     "execution_count": 5,
     "metadata": {},
     "output_type": "execute_result"
    }
   ],
   "source": [
    "(-2/6 * np.log2(2/6)) + (-4/6 * np.log2(4/6))"
   ]
  },
  {
   "cell_type": "code",
   "execution_count": 6,
   "id": "22fb3781-2ae3-4dba-831c-a6c268cf60b2",
   "metadata": {},
   "outputs": [],
   "source": [
    "# Entropy at the left child is: 0.9182958340544896 "
   ]
  },
  {
   "cell_type": "markdown",
   "id": "c136b2ad-645f-45e3-9fca-c9fb657c9196",
   "metadata": {},
   "source": [
    "Entropy at the right child"
   ]
  },
  {
   "cell_type": "code",
   "execution_count": 7,
   "id": "1223569f-429e-4167-9592-757f2a454cb0",
   "metadata": {},
   "outputs": [
    {
     "data": {
      "text/plain": [
       "0.8112781244591328"
      ]
     },
     "execution_count": 7,
     "metadata": {},
     "output_type": "execute_result"
    }
   ],
   "source": [
    "(-3/4 * np.log2(3/4)) + (-1/4 * np.log2(1/4))"
   ]
  },
  {
   "cell_type": "code",
   "execution_count": 8,
   "id": "e557c3c3-4582-4941-9996-20473965b411",
   "metadata": {},
   "outputs": [],
   "source": [
    "#Entropy for the right child: 0.8112781244591328"
   ]
  },
  {
   "cell_type": "code",
   "execution_count": 9,
   "id": "59d00685-5b59-4263-b26c-ab119f84d167",
   "metadata": {},
   "outputs": [],
   "source": [
    "# Getting the weighted entropy "
   ]
  },
  {
   "cell_type": "code",
   "execution_count": 10,
   "id": "0f6f6523-0400-4f64-a3c1-c4e91414da0a",
   "metadata": {},
   "outputs": [
    {
     "data": {
      "text/plain": [
       "0.5509775004326937"
      ]
     },
     "execution_count": 10,
     "metadata": {},
     "output_type": "execute_result"
    }
   ],
   "source": [
    "(6/10*0.9182958340544896)"
   ]
  },
  {
   "cell_type": "code",
   "execution_count": 11,
   "id": "66b8d59a-c878-461c-bc3a-4bc1602cacc3",
   "metadata": {},
   "outputs": [
    {
     "data": {
      "text/plain": [
       "0.32451124978365314"
      ]
     },
     "execution_count": 11,
     "metadata": {},
     "output_type": "execute_result"
    }
   ],
   "source": [
    "4/10*0.8112781244591328"
   ]
  },
  {
   "cell_type": "code",
   "execution_count": null,
   "id": "539fbbf3-17eb-445e-a375-c9e673161cd9",
   "metadata": {},
   "outputs": [],
   "source": [
    "# get the sum of all:"
   ]
  },
  {
   "cell_type": "code",
   "execution_count": 13,
   "id": "e43f4098-4bec-424c-800e-454b8e021748",
   "metadata": {},
   "outputs": [
    {
     "data": {
      "text/plain": [
       "0.8754887502163469"
      ]
     },
     "execution_count": 13,
     "metadata": {},
     "output_type": "execute_result"
    }
   ],
   "source": [
    "0.5509775004326937 +0.32451124978365314"
   ]
  },
  {
   "cell_type": "code",
   "execution_count": 14,
   "id": "6b71cb96-1fa4-4ae1-99df-e5d583367545",
   "metadata": {},
   "outputs": [
    {
     "data": {
      "text/plain": [
       "0.12451124978365313"
      ]
     },
     "execution_count": 14,
     "metadata": {},
     "output_type": "execute_result"
    }
   ],
   "source": [
    "1-0.8754887502163469 "
   ]
  },
  {
   "cell_type": "code",
   "execution_count": 15,
   "id": "256e5b3c-61c7-456c-9794-7a15b000b4d1",
   "metadata": {},
   "outputs": [],
   "source": [
    "# therefore the information gain is: 0.12451124978365313"
   ]
  },
  {
   "cell_type": "code",
   "execution_count": 16,
   "id": "7b67e854-217f-4899-96b3-78dd330807b0",
   "metadata": {},
   "outputs": [
    {
     "data": {
      "text/plain": [
       "1.0"
      ]
     },
     "execution_count": 16,
     "metadata": {},
     "output_type": "execute_result"
    }
   ],
   "source": [
    "(-2/4 * np.log2(2/4)) + (-2/4 * np.log2(2/4))"
   ]
  },
  {
   "cell_type": "code",
   "execution_count": 17,
   "id": "693ca30b-bccf-4cbe-855b-379e2d7fd3f2",
   "metadata": {},
   "outputs": [],
   "source": [
    "#Entropy at the root is = 1.0"
   ]
  },
  {
   "cell_type": "code",
   "execution_count": 18,
   "id": "00c67871-cf4f-4aa6-ab9a-0d532e1e5fba",
   "metadata": {},
   "outputs": [],
   "source": [
    "# left child"
   ]
  },
  {
   "cell_type": "code",
   "execution_count": 19,
   "id": "01155671-d04f-4a41-a946-d899f692e6ea",
   "metadata": {},
   "outputs": [
    {
     "data": {
      "text/plain": [
       "0.9182958340544896"
      ]
     },
     "execution_count": 19,
     "metadata": {},
     "output_type": "execute_result"
    }
   ],
   "source": [
    "(-2/3 * np.log2(2/3)) + (-1/3 * np.log2(1/3))"
   ]
  },
  {
   "cell_type": "code",
   "execution_count": 20,
   "id": "c3488366-b5be-4f43-b295-9ce0d0c0dddb",
   "metadata": {},
   "outputs": [],
   "source": [
    "#Entropy at the left child is: 0.9182958340544896"
   ]
  },
  {
   "cell_type": "code",
   "execution_count": 21,
   "id": "f199fa8d-8ec1-4553-91a4-13d3bb28bf32",
   "metadata": {},
   "outputs": [],
   "source": [
    "# right child"
   ]
  },
  {
   "cell_type": "code",
   "execution_count": 22,
   "id": "5c6768a2-4767-4824-a178-2084d0baf238",
   "metadata": {},
   "outputs": [
    {
     "data": {
      "text/plain": [
       "-0.0"
      ]
     },
     "execution_count": 22,
     "metadata": {},
     "output_type": "execute_result"
    }
   ],
   "source": [
    "(-1/1 * np.log2(1/1)) "
   ]
  },
  {
   "cell_type": "code",
   "execution_count": 24,
   "id": "43dc4a56-1686-4a8f-8c7d-9f7a8fda400d",
   "metadata": {},
   "outputs": [],
   "source": [
    "#weighted entropy  - left child"
   ]
  },
  {
   "cell_type": "code",
   "execution_count": 25,
   "id": "fc26b73d-5b79-47dc-94c4-9857bf285b36",
   "metadata": {},
   "outputs": [
    {
     "data": {
      "text/plain": [
       "0.6887218755408672"
      ]
     },
     "execution_count": 25,
     "metadata": {},
     "output_type": "execute_result"
    }
   ],
   "source": [
    "(0.9182958340544896 * 3/4) "
   ]
  },
  {
   "cell_type": "code",
   "execution_count": 26,
   "id": "a5b4dae8-c3a2-449d-837c-6ddf84aef8c4",
   "metadata": {},
   "outputs": [],
   "source": [
    "#weighted entropy - right child"
   ]
  },
  {
   "cell_type": "code",
   "execution_count": 27,
   "id": "ee01be42-0adb-4c8b-8ec7-4e87cac03a4a",
   "metadata": {},
   "outputs": [
    {
     "data": {
      "text/plain": [
       "0.0"
      ]
     },
     "execution_count": 27,
     "metadata": {},
     "output_type": "execute_result"
    }
   ],
   "source": [
    "(0* 1/4)"
   ]
  },
  {
   "cell_type": "code",
   "execution_count": 28,
   "id": "43ea799b-1903-4655-b245-4be861802719",
   "metadata": {},
   "outputs": [],
   "source": [
    "# sum of the weigted entropy = "
   ]
  },
  {
   "cell_type": "code",
   "execution_count": 29,
   "id": "abe9ea9e-2a40-4746-b8d5-576caf2f313e",
   "metadata": {},
   "outputs": [
    {
     "data": {
      "text/plain": [
       "0.6887218755408672"
      ]
     },
     "execution_count": 29,
     "metadata": {},
     "output_type": "execute_result"
    }
   ],
   "source": [
    "0.6887218755408672 + 0"
   ]
  },
  {
   "cell_type": "code",
   "execution_count": 30,
   "id": "2c6f9c6d-21d3-49ab-99da-c9158f02b769",
   "metadata": {},
   "outputs": [],
   "source": [
    "#information gain "
   ]
  },
  {
   "cell_type": "code",
   "execution_count": 31,
   "id": "4983da73-568f-4f4c-9462-6d77d9ea96b3",
   "metadata": {},
   "outputs": [],
   "source": [
    "#root entropy - sum of th weighted entropy "
   ]
  },
  {
   "cell_type": "code",
   "execution_count": 32,
   "id": "d84f3fff-4a66-4556-994b-04041acf9685",
   "metadata": {},
   "outputs": [
    {
     "data": {
      "text/plain": [
       "0.31127812445913283"
      ]
     },
     "execution_count": 32,
     "metadata": {},
     "output_type": "execute_result"
    }
   ],
   "source": [
    "1 - 0.6887218755408672"
   ]
  },
  {
   "cell_type": "code",
   "execution_count": 33,
   "id": "f439fbd2-9b1f-4bd2-89f4-4411af912d0f",
   "metadata": {},
   "outputs": [],
   "source": [
    "#So the information gain of using x as the split = 0.31127812445913283"
   ]
  },
  {
   "cell_type": "code",
   "execution_count": 34,
   "id": "48ffb3a7-552f-4d46-b53f-54eb0657adb4",
   "metadata": {},
   "outputs": [],
   "source": [
    "# Next we calculate for Y  "
   ]
  },
  {
   "cell_type": "code",
   "execution_count": 35,
   "id": "bf5879d6-a996-4f43-a4e7-53479e6fc713",
   "metadata": {},
   "outputs": [],
   "source": [
    "# Root = 1.0"
   ]
  },
  {
   "cell_type": "code",
   "execution_count": 36,
   "id": "0fd78c5c-9d9f-4ff8-84ed-4a4648db925d",
   "metadata": {},
   "outputs": [],
   "source": [
    "#entropy at the left: "
   ]
  },
  {
   "cell_type": "code",
   "execution_count": 37,
   "id": "ba491969-9f54-485e-92db-b0ea200968bb",
   "metadata": {},
   "outputs": [
    {
     "data": {
      "text/plain": [
       "-0.0"
      ]
     },
     "execution_count": 37,
     "metadata": {},
     "output_type": "execute_result"
    }
   ],
   "source": [
    "(-2/2 * np.log2(2/2)) "
   ]
  },
  {
   "cell_type": "code",
   "execution_count": 38,
   "id": "947a70a2-637e-4844-9d96-a74050891345",
   "metadata": {},
   "outputs": [],
   "source": [
    "#entropy at the right child"
   ]
  },
  {
   "cell_type": "code",
   "execution_count": 39,
   "id": "6fb65771-8917-4d69-9fa9-e13915a46f92",
   "metadata": {},
   "outputs": [
    {
     "data": {
      "text/plain": [
       "-0.0"
      ]
     },
     "execution_count": 39,
     "metadata": {},
     "output_type": "execute_result"
    }
   ],
   "source": [
    "(-2/2 * np.log2(2/2)) "
   ]
  },
  {
   "cell_type": "code",
   "execution_count": 40,
   "id": "621e66ee-24c1-453e-9705-d87f0b1b3cfe",
   "metadata": {},
   "outputs": [],
   "source": [
    "#sum of the weight entropy "
   ]
  },
  {
   "cell_type": "code",
   "execution_count": 41,
   "id": "66368ca8-5611-4221-a66f-8ed77291c63b",
   "metadata": {},
   "outputs": [
    {
     "data": {
      "text/plain": [
       "0.0"
      ]
     },
     "execution_count": 41,
     "metadata": {},
     "output_type": "execute_result"
    }
   ],
   "source": [
    "(0* 2/4) + (0*2/4)"
   ]
  },
  {
   "cell_type": "code",
   "execution_count": 42,
   "id": "19362c25-0608-48df-80fa-86f5c7fbf2c7",
   "metadata": {},
   "outputs": [],
   "source": [
    "#information gain = 1 - 0"
   ]
  },
  {
   "cell_type": "code",
   "execution_count": 43,
   "id": "fa2cd0dd-3188-42f1-8bd6-c1e130d2295d",
   "metadata": {},
   "outputs": [],
   "source": [
    "# the the information gain is= 1"
   ]
  },
  {
   "cell_type": "code",
   "execution_count": 44,
   "id": "207b4ed2-9fa3-468f-9afa-ee9acdd4cb50",
   "metadata": {},
   "outputs": [],
   "source": [
    "# now using Z"
   ]
  },
  {
   "cell_type": "code",
   "execution_count": 45,
   "id": "06a959d2-f802-4a9f-951c-6cd1b8ac04ac",
   "metadata": {},
   "outputs": [],
   "source": [
    "# at the root = 1"
   ]
  },
  {
   "cell_type": "code",
   "execution_count": 46,
   "id": "a6dc3734-dd1d-44e1-ae09-31501c2263ca",
   "metadata": {},
   "outputs": [],
   "source": [
    "# left child "
   ]
  },
  {
   "cell_type": "code",
   "execution_count": 47,
   "id": "310a805d-13ab-4d04-847e-a7c3a21bcd66",
   "metadata": {},
   "outputs": [
    {
     "data": {
      "text/plain": [
       "1.0"
      ]
     },
     "execution_count": 47,
     "metadata": {},
     "output_type": "execute_result"
    }
   ],
   "source": [
    "(-1/2 * np.log2(1/2)) + (-1/2 * np.log2(1/2))"
   ]
  },
  {
   "cell_type": "code",
   "execution_count": 48,
   "id": "24d17efb-2d58-4a8c-8f19-476744ad7416",
   "metadata": {},
   "outputs": [],
   "source": [
    "# right child"
   ]
  },
  {
   "cell_type": "code",
   "execution_count": 49,
   "id": "8235e046-fdcf-484f-9c6a-9b27aa57e939",
   "metadata": {},
   "outputs": [
    {
     "data": {
      "text/plain": [
       "1.0"
      ]
     },
     "execution_count": 49,
     "metadata": {},
     "output_type": "execute_result"
    }
   ],
   "source": [
    "(-1/2 * np.log2(1/2)) + (-1/2 * np.log2(1/2))"
   ]
  },
  {
   "cell_type": "code",
   "id": "35714d0d-36ad-4b71-a85b-4ec1b20f99ec",
   "metadata": {
    "ExecuteTime": {
     "end_time": "2024-06-27T13:29:38.198125Z",
     "start_time": "2024-06-27T13:29:38.194655Z"
    }
   },
   "source": [
    "#average and sum"
   ],
   "outputs": [],
   "execution_count": 1
  },
  {
   "cell_type": "code",
   "id": "595ec624-06b9-4055-9a90-f5be0c90037a",
   "metadata": {
    "ExecuteTime": {
     "end_time": "2024-06-27T13:29:38.205374Z",
     "start_time": "2024-06-27T13:29:38.199362Z"
    }
   },
   "source": [
    "(2/4* 1) + (2/4*1)"
   ],
   "outputs": [
    {
     "data": {
      "text/plain": [
       "1.0"
      ]
     },
     "execution_count": 2,
     "metadata": {},
     "output_type": "execute_result"
    }
   ],
   "execution_count": 2
  },
  {
   "cell_type": "code",
   "id": "b4b94ffd-42ce-48d7-a35f-138d254d2639",
   "metadata": {
    "ExecuteTime": {
     "end_time": "2024-06-27T13:29:38.216864Z",
     "start_time": "2024-06-27T13:29:38.215101Z"
    }
   },
   "source": [
    "#information gain"
   ],
   "outputs": [],
   "execution_count": 3
  },
  {
   "cell_type": "code",
   "id": "b35a393f-8d79-4e48-8eb0-bd437d64c475",
   "metadata": {
    "ExecuteTime": {
     "end_time": "2024-06-27T13:29:38.230979Z",
     "start_time": "2024-06-27T13:29:38.228661Z"
    }
   },
   "source": [
    "1 - 1"
   ],
   "outputs": [
    {
     "data": {
      "text/plain": [
       "0"
      ]
     },
     "execution_count": 4,
     "metadata": {},
     "output_type": "execute_result"
    }
   ],
   "execution_count": 4
  },
  {
   "cell_type": "code",
   "id": "b23b4280-6774-4c1b-8d09-d58fabb1731a",
   "metadata": {
    "ExecuteTime": {
     "end_time": "2024-06-27T13:29:38.564602Z",
     "start_time": "2024-06-27T13:29:38.563031Z"
    }
   },
   "source": [
    "# analysis x = 0.311, y = 1, z= 0  --- we take the highest ===\n"
   ],
   "outputs": [],
   "execution_count": 5
  },
  {
   "cell_type": "code",
   "id": "8c39d6e1-8dda-4977-82ec-7c4b2e99383c",
   "metadata": {
    "ExecuteTime": {
     "end_time": "2024-06-27T13:29:44.693515Z",
     "start_time": "2024-06-27T13:29:44.689557Z"
    }
   },
   "source": "# checking the updates\n",
   "outputs": [],
   "execution_count": 6
  },
  {
   "metadata": {
    "ExecuteTime": {
     "end_time": "2024-06-27T13:30:14.884792Z",
     "start_time": "2024-06-27T13:30:14.862495Z"
    }
   },
   "cell_type": "code",
   "source": "print(\"updated work\")",
   "id": "a74e5056b1e07503",
   "outputs": [
    {
     "name": "stdout",
     "output_type": "stream",
     "text": [
      "updated work\n"
     ]
    }
   ],
   "execution_count": 7
  },
  {
   "metadata": {},
   "cell_type": "code",
   "outputs": [],
   "execution_count": null,
   "source": "",
   "id": "ec087541df85c7be"
  }
 ],
 "metadata": {
  "kernelspec": {
   "display_name": "Python 3 (ipykernel)",
   "language": "python",
   "name": "python3"
  },
  "language_info": {
   "codemirror_mode": {
    "name": "ipython",
    "version": 3
   },
   "file_extension": ".py",
   "mimetype": "text/x-python",
   "name": "python",
   "nbconvert_exporter": "python",
   "pygments_lexer": "ipython3",
   "version": "3.9.13"
  }
 },
 "nbformat": 4,
 "nbformat_minor": 5
}
